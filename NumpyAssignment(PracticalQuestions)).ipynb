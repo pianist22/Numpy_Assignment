{
 "cells": [
  {
   "cell_type": "markdown",
   "id": "7d918cfd-fe6a-4dc1-98be-d06314b0b6e3",
   "metadata": {},
   "source": [
    "# Numpy Assignment Practical Questions"
   ]
  },
  {
   "cell_type": "code",
   "execution_count": 3,
   "id": "8182ab1f-310b-4b5a-ba14-9b6a3a863f04",
   "metadata": {},
   "outputs": [
    {
     "name": "stdout",
     "output_type": "stream",
     "text": [
      "Requirement already satisfied: numpy in c:\\users\\hp\\appdata\\local\\programs\\python\\python312\\lib\\site-packages (2.1.1)\n",
      "Note: you may need to restart the kernel to use updated packages.\n"
     ]
    }
   ],
   "source": [
    "pip install numpy"
   ]
  },
  {
   "cell_type": "code",
   "execution_count": 2,
   "id": "f3a53620-7f89-49c4-aec3-88baae4560ad",
   "metadata": {},
   "outputs": [],
   "source": [
    "import numpy as np"
   ]
  },
  {
   "cell_type": "markdown",
   "id": "91207656-1641-4b66-aaa2-a06c3eb7ec1e",
   "metadata": {},
   "source": [
    "### Ques1)Create a 3x3 NumPy array with random integers between 1 and 100. Then, interchange its rows and columns."
   ]
  },
  {
   "cell_type": "code",
   "execution_count": 2,
   "id": "b6d370c3-12f2-42e4-9420-a6e10585bc3f",
   "metadata": {},
   "outputs": [
    {
     "data": {
      "text/plain": [
       "array([[17, 60,  1],\n",
       "       [88, 95, 34],\n",
       "       [85, 12, 74]], dtype=int32)"
      ]
     },
     "execution_count": 2,
     "metadata": {},
     "output_type": "execute_result"
    }
   ],
   "source": [
    "arr = np.random.randint(1,101,(3,3))\n",
    "arr"
   ]
  },
  {
   "cell_type": "code",
   "execution_count": 3,
   "id": "8f3f494b-9ad5-44df-9e52-8e7641077e65",
   "metadata": {},
   "outputs": [
    {
     "data": {
      "text/plain": [
       "array([[17, 88, 85],\n",
       "       [60, 95, 12],\n",
       "       [ 1, 34, 74]], dtype=int32)"
      ]
     },
     "execution_count": 3,
     "metadata": {},
     "output_type": "execute_result"
    }
   ],
   "source": [
    "arr.T # aray after interchanging its rows and columns (ANS)"
   ]
  },
  {
   "cell_type": "markdown",
   "id": "ca3c640d-8832-465b-8eaa-99587401b76d",
   "metadata": {},
   "source": [
    "### Ques2) Generate a 1D NumPy array with 10 elements. Reshape it into a 2x5 array, then into a 5x2 array."
   ]
  },
  {
   "cell_type": "code",
   "execution_count": 4,
   "id": "cf75c27c-2a3b-4cdf-ad56-f1820ad1cddc",
   "metadata": {},
   "outputs": [
    {
     "data": {
      "text/plain": [
       "array([ 1,  2,  3,  4,  5,  6,  7,  8,  9, 10])"
      ]
     },
     "execution_count": 4,
     "metadata": {},
     "output_type": "execute_result"
    }
   ],
   "source": [
    "arr1 = np.array([1,2,3,4,5,6,7,8,9,10])\n",
    "arr1"
   ]
  },
  {
   "cell_type": "code",
   "execution_count": 5,
   "id": "8a0bb86a-a0ee-4704-b70c-79351be08a32",
   "metadata": {},
   "outputs": [
    {
     "data": {
      "text/plain": [
       "array([[ 1,  2,  3,  4,  5],\n",
       "       [ 6,  7,  8,  9, 10]])"
      ]
     },
     "execution_count": 5,
     "metadata": {},
     "output_type": "execute_result"
    }
   ],
   "source": [
    "# reshaping the array in 2X 5 array using reshape method\n",
    "arr1.reshape(2,5)"
   ]
  },
  {
   "cell_type": "code",
   "execution_count": 6,
   "id": "87015f0f-3422-4a0a-a3f3-55e0dcad3303",
   "metadata": {},
   "outputs": [
    {
     "data": {
      "text/plain": [
       "array([[ 1,  2],\n",
       "       [ 3,  4],\n",
       "       [ 5,  6],\n",
       "       [ 7,  8],\n",
       "       [ 9, 10]])"
      ]
     },
     "execution_count": 6,
     "metadata": {},
     "output_type": "execute_result"
    }
   ],
   "source": [
    "# then reshaping it in 5 X 2 array \n",
    "arr1.reshape(5,2)"
   ]
  },
  {
   "cell_type": "markdown",
   "id": "4acb6fd2-0e7a-49b6-adf6-cb989f2a4cd3",
   "metadata": {},
   "source": [
    "### Ques3)  Create a 4x4 NumPy array with random float values. Add a border of zeros around it, resulting in a 6x6 array"
   ]
  },
  {
   "cell_type": "code",
   "execution_count": 7,
   "id": "8dcc3129-8dbf-4d16-b183-539729c87aa2",
   "metadata": {},
   "outputs": [],
   "source": [
    "arr1 = np.random.rand(4,4)"
   ]
  },
  {
   "cell_type": "code",
   "execution_count": 8,
   "id": "bffd3cbc-555e-45ed-a74d-8671a51c6f27",
   "metadata": {},
   "outputs": [
    {
     "data": {
      "text/plain": [
       "array([[0.58861243, 0.36968796, 0.32521349, 0.93913088],\n",
       "       [0.36020571, 0.85231695, 0.65054742, 0.30237321],\n",
       "       [0.95795162, 0.11905441, 0.5507076 , 0.84440975],\n",
       "       [0.78859406, 0.13751874, 0.25816096, 0.40912314]])"
      ]
     },
     "execution_count": 8,
     "metadata": {},
     "output_type": "execute_result"
    }
   ],
   "source": [
    "arr1"
   ]
  },
  {
   "cell_type": "code",
   "execution_count": 16,
   "id": "37ab8181-7cfa-4c49-83e8-22ef076f0e41",
   "metadata": {},
   "outputs": [
    {
     "data": {
      "text/plain": [
       "array([[0., 0., 0., 0., 0., 0.],\n",
       "       [0., 0., 0., 0., 0., 0.],\n",
       "       [0., 0., 0., 0., 0., 0.],\n",
       "       [0., 0., 0., 0., 0., 0.],\n",
       "       [0., 0., 0., 0., 0., 0.],\n",
       "       [0., 0., 0., 0., 0., 0.]])"
      ]
     },
     "execution_count": 16,
     "metadata": {},
     "output_type": "execute_result"
    }
   ],
   "source": [
    "arr2 = np.zeros((6,6))\n",
    "arr2"
   ]
  },
  {
   "cell_type": "code",
   "execution_count": 17,
   "id": "3a2267af-8420-4f82-ac83-b9d69769775d",
   "metadata": {},
   "outputs": [],
   "source": [
    "arr2[:4,:4] = arr1 # here  we are using slicing to update the array from o-4 row and 0-4 col to fill the values of arr1"
   ]
  },
  {
   "cell_type": "code",
   "execution_count": 18,
   "id": "a2a60c9d-500e-4df7-b099-4af2c4a23def",
   "metadata": {},
   "outputs": [
    {
     "data": {
      "text/plain": [
       "array([[0.58861243, 0.36968796, 0.32521349, 0.93913088, 0.        ,\n",
       "        0.        ],\n",
       "       [0.36020571, 0.85231695, 0.65054742, 0.30237321, 0.        ,\n",
       "        0.        ],\n",
       "       [0.95795162, 0.11905441, 0.5507076 , 0.84440975, 0.        ,\n",
       "        0.        ],\n",
       "       [0.78859406, 0.13751874, 0.25816096, 0.40912314, 0.        ,\n",
       "        0.        ],\n",
       "       [0.        , 0.        , 0.        , 0.        , 0.        ,\n",
       "        0.        ],\n",
       "       [0.        , 0.        , 0.        , 0.        , 0.        ,\n",
       "        0.        ]])"
      ]
     },
     "execution_count": 18,
     "metadata": {},
     "output_type": "execute_result"
    }
   ],
   "source": [
    "arr2 # final ans"
   ]
  },
  {
   "cell_type": "markdown",
   "id": "8f7935e3-f7b8-4fce-a0ef-163badecd942",
   "metadata": {},
   "source": [
    "### Ques4) Using NumPy, create an array of integers from 10 to 60 with a step of 5."
   ]
  },
  {
   "cell_type": "code",
   "execution_count": 19,
   "id": "4e85b92d-35a8-42c5-a2f2-6deeb8281111",
   "metadata": {},
   "outputs": [
    {
     "data": {
      "text/plain": [
       "array([10, 15, 20, 25, 30, 35, 40, 45, 50, 55, 60])"
      ]
     },
     "execution_count": 19,
     "metadata": {},
     "output_type": "execute_result"
    }
   ],
   "source": [
    "# here we will use arange function to do the same \n",
    "arr = np.arange(10,61,5)\n",
    "arr"
   ]
  },
  {
   "cell_type": "markdown",
   "id": "282a1901-9248-487a-ba90-1d762024f770",
   "metadata": {},
   "source": [
    "### Ques5) Create a NumPy array of strings ['python', 'numpy', 'pandas']. Apply different case transformations(uppercase, lowercase, title case, etc.) to each element."
   ]
  },
  {
   "cell_type": "code",
   "execution_count": 20,
   "id": "57cb4427-a699-4699-9f8b-704d6f0c60a1",
   "metadata": {},
   "outputs": [
    {
     "data": {
      "text/plain": [
       "array(['python', 'numpy', 'pandas'], dtype='<U6')"
      ]
     },
     "execution_count": 20,
     "metadata": {},
     "output_type": "execute_result"
    }
   ],
   "source": [
    "arr = np.array(['python','numpy','pandas'])\n",
    "arr"
   ]
  },
  {
   "cell_type": "code",
   "execution_count": 23,
   "id": "ccd8dd2b-6f16-4d44-be52-d7f6fa99a8b5",
   "metadata": {},
   "outputs": [
    {
     "data": {
      "text/plain": [
       "array(['PYTHON', 'NUMPY', 'PANDAS'], dtype='<U6')"
      ]
     },
     "execution_count": 23,
     "metadata": {},
     "output_type": "execute_result"
    }
   ],
   "source": [
    "# Uppercase transformation:\n",
    "np.char.upper(arr)"
   ]
  },
  {
   "cell_type": "code",
   "execution_count": 24,
   "id": "50f81765-18f6-4433-9564-86420d0fe770",
   "metadata": {},
   "outputs": [
    {
     "data": {
      "text/plain": [
       "array(['python', 'numpy', 'pandas'], dtype='<U6')"
      ]
     },
     "execution_count": 24,
     "metadata": {},
     "output_type": "execute_result"
    }
   ],
   "source": [
    "# Lowercase transformation:\n",
    "np.char.lower(arr)"
   ]
  },
  {
   "cell_type": "code",
   "execution_count": 27,
   "id": "ecf24d88-f581-4f58-8a7f-7bc61f394785",
   "metadata": {},
   "outputs": [
    {
     "data": {
      "text/plain": [
       "array(['Python', 'Numpy', 'Pandas'], dtype='<U6')"
      ]
     },
     "execution_count": 27,
     "metadata": {},
     "output_type": "execute_result"
    }
   ],
   "source": [
    "# Titlecase Transformation:\n",
    "np.char.title(arr)"
   ]
  },
  {
   "cell_type": "code",
   "execution_count": 28,
   "id": "9b6df675-800b-43bc-88dd-3a7bbb1811bd",
   "metadata": {},
   "outputs": [
    {
     "data": {
      "text/plain": [
       "array(['Python', 'Numpy', 'Pandas'], dtype='<U6')"
      ]
     },
     "execution_count": 28,
     "metadata": {},
     "output_type": "execute_result"
    }
   ],
   "source": [
    "# another option \n",
    "np.char.capitalize(arr)"
   ]
  },
  {
   "cell_type": "markdown",
   "id": "25d05cba-3542-40d0-b08d-fba42ae66e65",
   "metadata": {},
   "source": [
    "### Ques6)  Generate a NumPy array of words. Insert a space between each character of every word in the array."
   ]
  },
  {
   "cell_type": "code",
   "execution_count": 30,
   "id": "26531f78-3b0f-42d7-81c6-edf427b63236",
   "metadata": {},
   "outputs": [
    {
     "data": {
      "text/plain": [
       "array(['My', 'name', 'is', 'Priyanshu', 'Saha'], dtype='<U9')"
      ]
     },
     "execution_count": 30,
     "metadata": {},
     "output_type": "execute_result"
    }
   ],
   "source": [
    "# we will add space to every character using np.char.join() function\n",
    "arr = np.array(['My','name','is','Priyanshu','Saha'])\n",
    "arr"
   ]
  },
  {
   "cell_type": "code",
   "execution_count": 31,
   "id": "dda4fb7a-34c8-4f96-84db-9f8a83ab05da",
   "metadata": {},
   "outputs": [],
   "source": [
    "# now adding space to every character\n",
    "arr = np.char.join(' ',arr) # here we joining each character by adding space to it."
   ]
  },
  {
   "cell_type": "code",
   "execution_count": 32,
   "id": "875ca606-8714-49e7-af85-7e307f0397d9",
   "metadata": {},
   "outputs": [
    {
     "data": {
      "text/plain": [
       "array(['M y', 'n a m e', 'i s', 'P r i y a n s h u', 'S a h a'],\n",
       "      dtype='<U17')"
      ]
     },
     "execution_count": 32,
     "metadata": {},
     "output_type": "execute_result"
    }
   ],
   "source": [
    "arr"
   ]
  },
  {
   "cell_type": "markdown",
   "id": "e9376fd4-8c4f-4e0d-9d93-7d3e9b432388",
   "metadata": {},
   "source": [
    "### Ques7) Create two 2D NumPy arrays and perform element-wise addition, subtraction, multiplication, and division."
   ]
  },
  {
   "cell_type": "code",
   "execution_count": 33,
   "id": "485c8f95-21d1-4043-963d-a0e0ae0a3a18",
   "metadata": {},
   "outputs": [
    {
     "name": "stdout",
     "output_type": "stream",
     "text": [
      "Using the + operator: [ 3  7 11 15]\n"
     ]
    }
   ],
   "source": [
    "# element wise addition \n",
    "first_array = np.array([1, 3, 5, 7])\n",
    "second_array = np.array([2, 4, 6, 8])\n",
    "\n",
    "# using the + operator\n",
    "result1 = first_array + second_array\n",
    "print(\"Using the + operator:\",result1) "
   ]
  },
  {
   "cell_type": "code",
   "execution_count": 34,
   "id": "ee7ea17e-d62c-4427-a265-5d3f26151e5e",
   "metadata": {},
   "outputs": [
    {
     "name": "stdout",
     "output_type": "stream",
     "text": [
      "Using the - operator: [-1 -1 -1 -1]\n"
     ]
    }
   ],
   "source": [
    "# element wise subtraction:\n",
    "# using the - operator\n",
    "result1 = first_array - second_array\n",
    "print(\"Using the - operator:\",result1)"
   ]
  },
  {
   "cell_type": "code",
   "execution_count": 35,
   "id": "1949fa1e-e477-4d27-9e0d-3384edc4b823",
   "metadata": {},
   "outputs": [
    {
     "name": "stdout",
     "output_type": "stream",
     "text": [
      "Using the * operator: [ 2 12 30 56]\n"
     ]
    }
   ],
   "source": [
    "# element wise multiplication:\n",
    "# using the * operator\n",
    "result1 = first_array * second_array\n",
    "print(\"Using the * operator:\",result1) "
   ]
  },
  {
   "cell_type": "code",
   "execution_count": 36,
   "id": "308365cc-624d-4993-83ad-5f8e8ec51007",
   "metadata": {},
   "outputs": [
    {
     "name": "stdout",
     "output_type": "stream",
     "text": [
      "Using the / operator: [0.5        0.75       0.83333333 0.875     ]\n"
     ]
    }
   ],
   "source": [
    "# element wise division\n",
    "# using the / operator\n",
    "result1 = first_array / second_array\n",
    "print(\"Using the / operator:\",result1) "
   ]
  },
  {
   "cell_type": "markdown",
   "id": "14d369ef-b62d-4e5d-97b7-aa7517d9c9e7",
   "metadata": {},
   "source": [
    "### Ques8) Use NumPy to create a 5x5 identity matrix, then extract its diagonal elements."
   ]
  },
  {
   "cell_type": "code",
   "execution_count": 37,
   "id": "6b1b736d-f8a4-4cd4-850f-ce69407f3b24",
   "metadata": {},
   "outputs": [
    {
     "data": {
      "text/plain": [
       "array([[1., 0., 0., 0., 0.],\n",
       "       [0., 1., 0., 0., 0.],\n",
       "       [0., 0., 1., 0., 0.],\n",
       "       [0., 0., 0., 1., 0.],\n",
       "       [0., 0., 0., 0., 1.]])"
      ]
     },
     "execution_count": 37,
     "metadata": {},
     "output_type": "execute_result"
    }
   ],
   "source": [
    "arr = np.eye(5)\n",
    "arr"
   ]
  },
  {
   "cell_type": "code",
   "execution_count": 38,
   "id": "35d29f0c-5156-4d44-be3c-6f103288f672",
   "metadata": {},
   "outputs": [
    {
     "data": {
      "text/plain": [
       "array([1., 1., 1., 1., 1.])"
      ]
     },
     "execution_count": 38,
     "metadata": {},
     "output_type": "execute_result"
    }
   ],
   "source": [
    "diagonal_elements = np.diagonal(arr) #extracting the diagonal elements \n",
    "diagonal_elements"
   ]
  },
  {
   "cell_type": "markdown",
   "id": "a5af830a-31df-46d9-8d61-9faaee69437f",
   "metadata": {},
   "source": [
    "### Ques 9) Generate a NumPy array of 100 random integers between 0 and 1000. Find and display all prime numbers in this array."
   ]
  },
  {
   "cell_type": "code",
   "execution_count": 3,
   "id": "1db748af-1f8a-4e9a-9bed-5a9806102912",
   "metadata": {},
   "outputs": [
    {
     "data": {
      "text/plain": [
       "array([[8937],\n",
       "       [  51],\n",
       "       [5643],\n",
       "       [4014],\n",
       "       [5920],\n",
       "       [5123],\n",
       "       [1248],\n",
       "       [5593],\n",
       "       [1340],\n",
       "       [9129],\n",
       "       [   9],\n",
       "       [5865],\n",
       "       [5345],\n",
       "       [3433],\n",
       "       [8541],\n",
       "       [1911],\n",
       "       [3794],\n",
       "       [1386],\n",
       "       [2625],\n",
       "       [9048],\n",
       "       [8458],\n",
       "       [4423],\n",
       "       [3651],\n",
       "       [4935],\n",
       "       [4063],\n",
       "       [6561],\n",
       "       [4514],\n",
       "       [ 709],\n",
       "       [1181],\n",
       "       [4969],\n",
       "       [3857],\n",
       "       [7354],\n",
       "       [6549],\n",
       "       [2790],\n",
       "       [4371],\n",
       "       [7648],\n",
       "       [5470],\n",
       "       [9940],\n",
       "       [5738],\n",
       "       [4734],\n",
       "       [4366],\n",
       "       [8356],\n",
       "       [7400],\n",
       "       [9943],\n",
       "       [5304],\n",
       "       [7308],\n",
       "       [3121],\n",
       "       [2053],\n",
       "       [7456],\n",
       "       [5343],\n",
       "       [5887],\n",
       "       [4129],\n",
       "       [3064],\n",
       "       [6492],\n",
       "       [6083],\n",
       "       [4834],\n",
       "       [ 244],\n",
       "       [8021],\n",
       "       [8083],\n",
       "       [2110],\n",
       "       [7555],\n",
       "       [6736],\n",
       "       [5885],\n",
       "       [8630],\n",
       "       [2265],\n",
       "       [4263],\n",
       "       [9946],\n",
       "       [ 610],\n",
       "       [3129],\n",
       "       [4523],\n",
       "       [2856],\n",
       "       [1790],\n",
       "       [2060],\n",
       "       [6427],\n",
       "       [3303],\n",
       "       [6199],\n",
       "       [5387],\n",
       "       [2913],\n",
       "       [6610],\n",
       "       [4544],\n",
       "       [9653],\n",
       "       [1267],\n",
       "       [3053],\n",
       "       [9169],\n",
       "       [1501],\n",
       "       [8966],\n",
       "       [8350],\n",
       "       [3271],\n",
       "       [8943],\n",
       "       [9368],\n",
       "       [4724],\n",
       "       [4103],\n",
       "       [5194],\n",
       "       [2859],\n",
       "       [7392],\n",
       "       [8064],\n",
       "       [8181],\n",
       "       [9273],\n",
       "       [2128],\n",
       "       [9757]], dtype=int32)"
      ]
     },
     "execution_count": 3,
     "metadata": {},
     "output_type": "execute_result"
    }
   ],
   "source": [
    "arr = np.random.randint(0,10001,(100,1))\n",
    "arr"
   ]
  },
  {
   "cell_type": "code",
   "execution_count": 4,
   "id": "9cf62358-4b21-4453-bd9b-7969f323b365",
   "metadata": {},
   "outputs": [
    {
     "data": {
      "text/plain": [
       "<numpy.vectorize at 0x18b2b7578f0>"
      ]
     },
     "execution_count": 4,
     "metadata": {},
     "output_type": "execute_result"
    }
   ],
   "source": [
    "def prime(n):\n",
    "    if n<=1:\n",
    "        return False\n",
    "    for i in range(2,int(n/2)+1):\n",
    "        if n%i == 0:\n",
    "            return False\n",
    "    return True\n",
    "prime_vec = np.vectorize(prime) # vectorize generator object which we can apply to any particular array to find out exactly which elements are\n",
    "# its prime or not\n",
    "prime_vec"
   ]
  },
  {
   "cell_type": "code",
   "execution_count": 5,
   "id": "b9f27e9f-67b0-4a95-ad6b-a24a537dee50",
   "metadata": {},
   "outputs": [
    {
     "data": {
      "text/plain": [
       "array([3433, 4423,  709, 1181, 4969, 3121, 2053, 4129, 4523, 6427, 6199,\n",
       "       5387, 3271], dtype=int32)"
      ]
     },
     "execution_count": 5,
     "metadata": {},
     "output_type": "execute_result"
    }
   ],
   "source": [
    "prime_array = arr[prime_vec(arr)]\n",
    "prime_array # this is the final required array"
   ]
  },
  {
   "cell_type": "markdown",
   "id": "4058bb23-49d6-4ac6-b090-228fbac1af62",
   "metadata": {},
   "source": [
    "### Ques10) Create a NumPy array representing daily temperatures for a month. Calculate and display the weekly averages."
   ]
  },
  {
   "cell_type": "code",
   "execution_count": 8,
   "id": "cf05a830-7d4d-4809-9da4-9da24487a01d",
   "metadata": {},
   "outputs": [
    {
     "name": "stdout",
     "output_type": "stream",
     "text": [
      "Weekly Averages:\n",
      "Week 1: 79.25\n",
      "Week 2: 75.50\n",
      "Week 3: 66.75\n",
      "Week 4: 76.75\n",
      "Week 5: 72.00\n",
      "Week 6: 74.00\n",
      "Week 7: 73.00\n"
     ]
    }
   ],
   "source": [
    "\n",
    "# Create a NumPy array with random temperatures for 30 days\n",
    "temperatures = np.random.randint(60, 90, 28)\n",
    "\n",
    "# Reshape the array into a 7x4 matrix, where each row represents a week\n",
    "weekly_temps = temperatures.reshape(7,4)\n",
    "\n",
    "# Calculate weekly averages\n",
    "weekly_averages = np.mean(weekly_temps, axis=1)\n",
    "\n",
    "# Display the weekly averages\n",
    "print(\"Weekly Averages:\")\n",
    "for i, avg in enumerate(weekly_averages):\n",
    "    print(f\"Week {i+1}: {avg:.2f}\")"
   ]
  },
  {
   "cell_type": "code",
   "execution_count": null,
   "id": "8404fe01-3b19-4056-82c6-fe4911cc8633",
   "metadata": {},
   "outputs": [],
   "source": []
  }
 ],
 "metadata": {
  "kernelspec": {
   "display_name": "Python 3 (ipykernel)",
   "language": "python",
   "name": "python3"
  },
  "language_info": {
   "codemirror_mode": {
    "name": "ipython",
    "version": 3
   },
   "file_extension": ".py",
   "mimetype": "text/x-python",
   "name": "python",
   "nbconvert_exporter": "python",
   "pygments_lexer": "ipython3",
   "version": "3.12.6"
  }
 },
 "nbformat": 4,
 "nbformat_minor": 5
}
