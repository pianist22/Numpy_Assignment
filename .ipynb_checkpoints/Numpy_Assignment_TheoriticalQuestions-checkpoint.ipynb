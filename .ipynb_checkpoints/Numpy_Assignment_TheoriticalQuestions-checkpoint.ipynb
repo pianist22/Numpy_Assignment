{
 "cells": [
  {
   "cell_type": "markdown",
   "id": "0f6999c1-1219-4966-ae2d-572bd6904aeb",
   "metadata": {},
   "source": [
    "# Theoretical Questions"
   ]
  },
  {
   "cell_type": "markdown",
   "id": "6cffec85-08e2-404b-9e2a-508fd35bd961",
   "metadata": {},
   "source": [
    "### Ques1) Explain the purpose and advantages of NumPy in scientific computing and data analysis. How does it enhance Python's capabilities for numerical operations?"
   ]
  },
  {
   "cell_type": "raw",
   "id": "fcfa8bec-42b1-470f-ace0-ab5b1180b703",
   "metadata": {},
   "source": [
    "NumPy (Numerical Python) is a Python library that enhances Python's capabilities for numerical operations and data analysis in scientific computing by providing a variety of benefits, including: \n",
    "Speed\n",
    "NumPy's array operations are faster than Python's built-in lists because they are executed in compiled C. This speed is essential for handling large datasets and complex computations. \n",
    "Memory efficiency\n",
    "NumPy arrays use contiguous memory blocks, which reduces overhead and enables faster data access and manipulation. \n",
    "Mathematical functions\n",
    "NumPy provides a wide range of mathematical functions, including basic arithmetic operations, statistical functions, linear algebra operations, and Fourier transforms. \n",
    "Broadcasting\n",
    "NumPy's broadcasting capability allows for arithmetic operations between arrays of different shapes and sizes. "
   ]
  },
  {
   "cell_type": "markdown",
   "id": "0e033987-e216-4b4f-a355-1e5cf457a180",
   "metadata": {},
   "source": [
    "### Ques2) Compare and contrast np.mean() and np.average() functions in NumPy. When would you use one over the other?"
   ]
  },
  {
   "cell_type": "code",
   "execution_count": 3,
   "id": "9bff6c2e-c251-4bf8-a113-d67db4c927d1",
   "metadata": {},
   "outputs": [
    {
     "name": "stdout",
     "output_type": "stream",
     "text": [
      "Original array:\n",
      " [ 0  1  2  3  4  5  6  7  8  9 10 11 12 13 14]\n",
      "mean  :  7.0\n"
     ]
    }
   ],
   "source": [
    "# numpy.mean() Function\n",
    "# Syntax:\n",
    "# >  numpy.mean(a, axis=None, dtype=None, **kwargs)\n",
    "# In NumPy, np.mean() will compute the 'Arithmetic Mean' along a given axis. Here's how you'd utilize it:\n",
    "# Code\n",
    "import numpy as np\n",
    "orginal_array = np.arange(15)\n",
    "print('Original array:\\n', orginal_array)\n",
    "print('mean  : ',np.mean(orginal_array))\n"
   ]
  },
  {
   "cell_type": "code",
   "execution_count": 5,
   "id": "470ba5ae-8644-4478-9a5b-18fdf5397637",
   "metadata": {},
   "outputs": [
    {
     "name": "stdout",
     "output_type": "stream",
     "text": [
      "Original array:\n",
      " [ 0  1  2  3  4  5  6  7  8  9 10 11 12 13 14]\n",
      "average when no weights were specified :  7.0\n",
      "average when weights were specified :  4.666666666666667\n"
     ]
    }
   ],
   "source": [
    "# numpy.average() Function\n",
    "# Syntax:\n",
    "# numpy.average(a, axis=None, weights=None, **kwargs)\n",
    "# numpy.average(), on the contrary, allows you to compute a Weighted Mean, with each value in your array having a distinct weight. \n",
    "# For instance, consider the following code example:\n",
    "# Code:\n",
    "\n",
    "orginal_array = np.arange(15)\n",
    "print('Original array:\\n', orginal_array)\n",
    "print('average when no weights were specified : ',np.average(orginal_array))\n",
    "print('average when weights were specified : ',np.average(orginal_array,weights=range(15,0,-1)))"
   ]
  },
  {
   "cell_type": "markdown",
   "id": "8421c84f-5c8b-4b74-a74c-c2d5942669ba",
   "metadata": {},
   "source": [
    "### Ques3) Describe the methods for reversing a NumPy array along different axes. Provide examples for 1D and 2D arrays."
   ]
  },
  {
   "cell_type": "code",
   "execution_count": 6,
   "id": "944b3220-1cb6-4189-8d34-ac181f2aabb0",
   "metadata": {},
   "outputs": [
    {
     "name": "stdout",
     "output_type": "stream",
     "text": [
      "[5 4 3 2 1]\n"
     ]
    }
   ],
   "source": [
    "# To reverse a NumPy array, you can use the np.flip() function.\n",
    "# 1. Reversing a 1D array:\n",
    "# Code\n",
    "arr = np.array([1, 2, 3, 4, 5])\n",
    "reversed_arr = np.flip(arr)\n",
    "\n",
    "print(reversed_arr)"
   ]
  },
  {
   "cell_type": "code",
   "execution_count": 7,
   "id": "55897549-b924-4340-aa05-a305832a5919",
   "metadata": {},
   "outputs": [
    {
     "name": "stdout",
     "output_type": "stream",
     "text": [
      "[[4 5 6]\n",
      " [1 2 3]]\n"
     ]
    }
   ],
   "source": [
    "# 2. Reversing a 2D array:\n",
    "# Reversing along the first axis (rows).\n",
    "# code:\n",
    "arr = np.array([[1, 2, 3], [4, 5, 6]])\n",
    "reversed_arr = np.flip(arr, axis=0)\n",
    "\n",
    "print(reversed_arr)"
   ]
  },
  {
   "cell_type": "code",
   "execution_count": 8,
   "id": "132c6bbf-08b2-4f99-a0b7-a6f57b589587",
   "metadata": {},
   "outputs": [
    {
     "name": "stdout",
     "output_type": "stream",
     "text": [
      "[[3 2 1]\n",
      " [6 5 4]]\n"
     ]
    }
   ],
   "source": [
    "# Reversing along the second axis (columns).\n",
    "\n",
    "arr = np.array([[1, 2, 3], [4, 5, 6]])\n",
    "reversed_arr = np.flip(arr, axis=1)\n",
    "\n",
    "print(reversed_arr)"
   ]
  },
  {
   "cell_type": "markdown",
   "id": "34595911-0b67-483a-92c4-631b035ed67d",
   "metadata": {},
   "source": [
    "### Ques4) How can you determine the data type of elements in a NumPy array? Discuss the importance of data types in memory management and performance."
   ]
  },
  {
   "cell_type": "code",
   "execution_count": 10,
   "id": "8502a29c-db89-4d1d-a136-4a3b3dd352ac",
   "metadata": {},
   "outputs": [
    {
     "name": "stdout",
     "output_type": "stream",
     "text": [
      "int64\n"
     ]
    }
   ],
   "source": [
    "# In NumPy, you can determine the data type of elements in an array using the dtype attribute\n",
    "# Code\n",
    "arr = np.array([1, 2, 3])\n",
    "print(arr.dtype) \n"
   ]
  },
  {
   "cell_type": "code",
   "execution_count": 11,
   "id": "000a5384-2bd0-46e5-bed4-2c70ea8eb9bb",
   "metadata": {},
   "outputs": [],
   "source": [
    "# Importance of Data Types in Memory Management and Performance:\n",
    "# Memory Management:\n",
    "# Data types define the amount of memory allocated to each element in the array. Choosing the right data type can significantly impact memory usage.\n",
    "# For example, using int8 instead of int32 can reduce memory consumption by 75% if your data falls within the range of int8.\n",
    "# Performance:\n",
    "# Data types influence the speed of operations performed on the array. NumPy is optimized for operations on specific data types, and using the \n",
    "# appropriate data type can lead to significant performance improvements. For instance, operations on integer arrays are typically faster than \n",
    "# operations on floating-point arrays.\n",
    "# Type Safety:\n",
    "# Data types help ensure that operations are performed on compatible data. For example, performing arithmetic operations on a string array might\n",
    "# lead to unexpected results or errors. By specifying the data type, you can catch such errors early on."
   ]
  },
  {
   "cell_type": "markdown",
   "id": "ae348f48-99ca-495c-8941-0fd6f4e77029",
   "metadata": {},
   "source": [
    "### Ques5) Define ndarrays in NumPy and explain their key features. How do they differ from standard Python lists?"
   ]
  },
  {
   "cell_type": "code",
   "execution_count": 12,
   "id": "27cdbb98-577a-45a2-b856-28a68516c0f9",
   "metadata": {},
   "outputs": [],
   "source": [
    "# An ndarray is a multidimensional array in NumPy that contains items of the same type and size. Here are some key features of ndarrays: \n",
    "# Shape: The shape of an ndarray is a tuple of non-negative integers that specifies the size of each dimension. \n",
    "# Data type: The data type of an ndarray is specified by a data-type object (dtype). \n",
    "# Fixed size: The size of an ndarray is usually fixed. \n",
    "# Mathematical operations: Once created, you can perform mathematical operations on the contents of an ndarray. \n",
    "# Sharing: Different ndarrays can share the same data. \n",
    "# Views: An ndarray can be a view to another ndarray, or to memory owned by Python objects. \n",
    "# Here are some differences between ndarrays and standard Python lists:\n",
    "# Data type: Ndarrays contain elements of the same data type, while lists can contain elements of different data types.\n",
    "# Arithmetic operations: Ndarrays can manage arithmetic operations, while lists cannot. "
   ]
  },
  {
   "cell_type": "markdown",
   "id": "ae333ff4-f2bc-4b9e-8b81-e738069cb4d3",
   "metadata": {},
   "source": [
    "### Ques6) Analyze the performance benefits of NumPy arrays over Python lists for large-scale numerical operations."
   ]
  },
  {
   "cell_type": "code",
   "execution_count": 13,
   "id": "161abaed-86b8-4201-8220-1b4bdbda2d17",
   "metadata": {},
   "outputs": [],
   "source": [
    "# NumPy arrays are faster and more memory efficient than Python lists for large-scale numerical operations because of their efficient implementation\n",
    "# in C and use of contiguous memory blocks: \n",
    "# Speed\n",
    "# NumPy arrays are executed at compiled C speed, which is much faster than Python lists. This is especially important for handling large datasets\n",
    "# and complex computations. \n",
    "# Memory efficiency\n",
    "# NumPy arrays use contiguous memory blocks, which reduces overhead and enables faster data access and manipulation. \n",
    "# Mathematical functions\n",
    "# NumPy provides a large collection of mathematical functions for array manipulation, linear algebra, statistical operations, and random number \n",
    "# generation. \n",
    "# Integration\n",
    "# NumPy integrates with other scientific Python libraries and tools, such as SciPy, Pandas, Matplotlib, and scikit-learn."
   ]
  },
  {
   "cell_type": "markdown",
   "id": "a6862cd4-293b-46a5-9b48-b74367e71d01",
   "metadata": {},
   "source": [
    "### Ques7)  Compare vstack() and hstack() functions in NumPy. Provide examples demonstrating their usage and output."
   ]
  },
  {
   "cell_type": "code",
   "execution_count": 14,
   "id": "92e74d7f-2506-4a7d-ac0f-098ed9c5f331",
   "metadata": {},
   "outputs": [
    {
     "name": "stdout",
     "output_type": "stream",
     "text": [
      "[[1 2]\n",
      " [3 4]\n",
      " [5 6]]\n"
     ]
    }
   ],
   "source": [
    "# In NumPy, vstack and hstack are used to stack arrays vertically and horizontally, respectively.\n",
    "# vstack()\n",
    "# Stacks arrays vertically (row-wise), creating a new array with more rows.\n",
    "# The arrays being stacked must have the same number of columns.\n",
    "# Example:\n",
    "\n",
    "a = np.array([[1, 2], [3, 4]])\n",
    "\n",
    "b = np.array([[5, 6]])\n",
    "\n",
    "c = np.vstack((a, b))\n",
    "\n",
    "print(c)\n"
   ]
  },
  {
   "cell_type": "code",
   "execution_count": 17,
   "id": "aa7cfed5-f2b4-4fa8-b86d-3eb603b8f4f1",
   "metadata": {},
   "outputs": [
    {
     "name": "stdout",
     "output_type": "stream",
     "text": [
      "[[1 2 5]\n",
      " [3 4 6]]\n"
     ]
    }
   ],
   "source": [
    "# hstack()\n",
    "# Stacks arrays horizontally (column-wise), creating a new array with more columns.\n",
    "# The arrays being stacked must have the same number of rows.\n",
    "# Example:\n",
    "a = np.array([[1, 2], [3, 4]])\n",
    "\n",
    "b = np.array([[5], [6]])\n",
    "\n",
    "c = np.hstack((a, b))\n",
    "print(c)\n"
   ]
  },
  {
   "cell_type": "markdown",
   "id": "921f1321-9537-45f5-adfb-7c05677daa19",
   "metadata": {},
   "source": [
    "### Ques8. Explain the differences between fliplr() and flipud() methods in NumPy, including their effects on various array dimensions."
   ]
  },
  {
   "cell_type": "code",
   "execution_count": 18,
   "id": "d41d2678-6043-4c2e-90ea-7680028feeb3",
   "metadata": {},
   "outputs": [],
   "source": [
    "# The main difference between the fliplr() and flipud() methods in NumPy is the direction in which they flip an array: \n",
    "# fliplr(): Flips an array left to right, or along axis 1. This means that the columns are preserved, but appear in a different order. \n",
    "# flipud(): Flips an array up to down, or along axis 0. \n",
    "# The flip() method can flip an array in any direction. The axis parameter in flip() can be used to specify the axis or axes along which to flip.\n",
    "# For example, flip(m, 1) is equivalent to fliplr(m) and flip(m, 0) is equivalent to flipud(m). \n",
    "# NumPy is an open-source Python library that contains multidimensional array data structures and a large library of functions"
   ]
  },
  {
   "cell_type": "markdown",
   "id": "76121dd0-18d8-4e4c-93bc-f7860d4080d5",
   "metadata": {},
   "source": [
    "### Ques9) Discuss the functionality of the array_split() method in NumPy. How does it handle uneven splits?"
   ]
  },
  {
   "cell_type": "code",
   "execution_count": null,
   "id": "273df88f-ab12-4e30-85c0-1cba554aa565",
   "metadata": {},
   "outputs": [],
   "source": [
    "The array_split() method in NumPy splits an array into multiple sub-arrays and can handle uneven splits: \n",
    "How it works\n",
    "To use array_split(), pass the array to split and the number of splits. The method returns an array containing each split as an array. \n",
    "Handling uneven splits\n",
    "If the number of splits does not equally divide the array, array_split() returns sub-arrays of different sizes. For example, if an array of length l is split into n sections, array_split() returns l % n sub-arrays of size l//n + 1 and the rest of size l//n. "
   ]
  }
 ],
 "metadata": {
  "kernelspec": {
   "display_name": "Python 3 (ipykernel)",
   "language": "python",
   "name": "python3"
  },
  "language_info": {
   "codemirror_mode": {
    "name": "ipython",
    "version": 3
   },
   "file_extension": ".py",
   "mimetype": "text/x-python",
   "name": "python",
   "nbconvert_exporter": "python",
   "pygments_lexer": "ipython3",
   "version": "3.12.6"
  }
 },
 "nbformat": 4,
 "nbformat_minor": 5
}
